{
  "nbformat": 4,
  "nbformat_minor": 0,
  "metadata": {
    "colab": {
      "provenance": []
    },
    "kernelspec": {
      "name": "python3",
      "display_name": "Python 3"
    },
    "language_info": {
      "name": "python"
    }
  },
  "cells": [
    {
      "cell_type": "code",
      "source": [
        "# Import Libraries\n",
        "import pandas as pd\n",
        "import numpy as np"
      ],
      "metadata": {
        "id": "vjL-R_vYPh2C"
      },
      "execution_count": 1,
      "outputs": []
    },
    {
      "cell_type": "code",
      "source": [
        "# Read xlsx file\n",
        "df=pd.read_excel('/content/Loan_Application.xlsx')\n",
        "df.head()"
      ],
      "metadata": {
        "colab": {
          "base_uri": "https://localhost:8080/",
          "height": 255
        },
        "id": "04SODcjaPNxl",
        "outputId": "a0506ac6-6f9c-40c6-92af-2a781a903292"
      },
      "execution_count": 2,
      "outputs": [
        {
          "output_type": "execute_result",
          "data": {
            "text/plain": [
              "   ID  Decision  Selfcon_Code  Tier_1  Tier_2  AccoClass  LoanType  Gender  \\\n",
              "0   1         0             1       0       0          0         1       0   \n",
              "1   2         0             1       0       0          0         1       0   \n",
              "2   3         1             1       0       0          0         0       0   \n",
              "3   4         1             1       0       0          1         1       0   \n",
              "4   5         1             1       0       0          0         1       0   \n",
              "\n",
              "   Etype  Doc_pf  ...  Term  Dwnpay  BankSave       CalcEmi        IIR  \\\n",
              "0      1       0  ...    84  300000         0   4087.159912   7.999922   \n",
              "1      0       1  ...   180  130000         0   4924.810059  21.999509   \n",
              "2      1       1  ...    84  557000         0  11712.969727  36.000030   \n",
              "3      1       1  ...   180  666500         0  15390.040039  36.999736   \n",
              "4      1       1  ...   180  151000         0  15390.040039  40.999654   \n",
              "\n",
              "         IAR       FOIR        LTV   LVR  dwnp_prop_p  \n",
              "0  11.000000  22.300176  40.000000  40.0    60.000000  \n",
              "1  38.999129  32.858975  71.000036  71.0    28.888889  \n",
              "2  56.000047  36.000030  17.999999  47.0    52.696310  \n",
              "3  52.999656  36.999736  56.000009  60.0    39.993999  \n",
              "4  57.000148  40.999654  51.000008  87.0    13.119027  \n",
              "\n",
              "[5 rows x 38 columns]"
            ],
            "text/html": [
              "\n",
              "  <div id=\"df-d82048b4-9d8e-4576-85c5-dbc0c2ba5de4\" class=\"colab-df-container\">\n",
              "    <div>\n",
              "<style scoped>\n",
              "    .dataframe tbody tr th:only-of-type {\n",
              "        vertical-align: middle;\n",
              "    }\n",
              "\n",
              "    .dataframe tbody tr th {\n",
              "        vertical-align: top;\n",
              "    }\n",
              "\n",
              "    .dataframe thead th {\n",
              "        text-align: right;\n",
              "    }\n",
              "</style>\n",
              "<table border=\"1\" class=\"dataframe\">\n",
              "  <thead>\n",
              "    <tr style=\"text-align: right;\">\n",
              "      <th></th>\n",
              "      <th>ID</th>\n",
              "      <th>Decision</th>\n",
              "      <th>Selfcon_Code</th>\n",
              "      <th>Tier_1</th>\n",
              "      <th>Tier_2</th>\n",
              "      <th>AccoClass</th>\n",
              "      <th>LoanType</th>\n",
              "      <th>Gender</th>\n",
              "      <th>Etype</th>\n",
              "      <th>Doc_pf</th>\n",
              "      <th>...</th>\n",
              "      <th>Term</th>\n",
              "      <th>Dwnpay</th>\n",
              "      <th>BankSave</th>\n",
              "      <th>CalcEmi</th>\n",
              "      <th>IIR</th>\n",
              "      <th>IAR</th>\n",
              "      <th>FOIR</th>\n",
              "      <th>LTV</th>\n",
              "      <th>LVR</th>\n",
              "      <th>dwnp_prop_p</th>\n",
              "    </tr>\n",
              "  </thead>\n",
              "  <tbody>\n",
              "    <tr>\n",
              "      <th>0</th>\n",
              "      <td>1</td>\n",
              "      <td>0</td>\n",
              "      <td>1</td>\n",
              "      <td>0</td>\n",
              "      <td>0</td>\n",
              "      <td>0</td>\n",
              "      <td>1</td>\n",
              "      <td>0</td>\n",
              "      <td>1</td>\n",
              "      <td>0</td>\n",
              "      <td>...</td>\n",
              "      <td>84</td>\n",
              "      <td>300000</td>\n",
              "      <td>0</td>\n",
              "      <td>4087.159912</td>\n",
              "      <td>7.999922</td>\n",
              "      <td>11.000000</td>\n",
              "      <td>22.300176</td>\n",
              "      <td>40.000000</td>\n",
              "      <td>40.0</td>\n",
              "      <td>60.000000</td>\n",
              "    </tr>\n",
              "    <tr>\n",
              "      <th>1</th>\n",
              "      <td>2</td>\n",
              "      <td>0</td>\n",
              "      <td>1</td>\n",
              "      <td>0</td>\n",
              "      <td>0</td>\n",
              "      <td>0</td>\n",
              "      <td>1</td>\n",
              "      <td>0</td>\n",
              "      <td>0</td>\n",
              "      <td>1</td>\n",
              "      <td>...</td>\n",
              "      <td>180</td>\n",
              "      <td>130000</td>\n",
              "      <td>0</td>\n",
              "      <td>4924.810059</td>\n",
              "      <td>21.999509</td>\n",
              "      <td>38.999129</td>\n",
              "      <td>32.858975</td>\n",
              "      <td>71.000036</td>\n",
              "      <td>71.0</td>\n",
              "      <td>28.888889</td>\n",
              "    </tr>\n",
              "    <tr>\n",
              "      <th>2</th>\n",
              "      <td>3</td>\n",
              "      <td>1</td>\n",
              "      <td>1</td>\n",
              "      <td>0</td>\n",
              "      <td>0</td>\n",
              "      <td>0</td>\n",
              "      <td>0</td>\n",
              "      <td>0</td>\n",
              "      <td>1</td>\n",
              "      <td>1</td>\n",
              "      <td>...</td>\n",
              "      <td>84</td>\n",
              "      <td>557000</td>\n",
              "      <td>0</td>\n",
              "      <td>11712.969727</td>\n",
              "      <td>36.000030</td>\n",
              "      <td>56.000047</td>\n",
              "      <td>36.000030</td>\n",
              "      <td>17.999999</td>\n",
              "      <td>47.0</td>\n",
              "      <td>52.696310</td>\n",
              "    </tr>\n",
              "    <tr>\n",
              "      <th>3</th>\n",
              "      <td>4</td>\n",
              "      <td>1</td>\n",
              "      <td>1</td>\n",
              "      <td>0</td>\n",
              "      <td>0</td>\n",
              "      <td>1</td>\n",
              "      <td>1</td>\n",
              "      <td>0</td>\n",
              "      <td>1</td>\n",
              "      <td>1</td>\n",
              "      <td>...</td>\n",
              "      <td>180</td>\n",
              "      <td>666500</td>\n",
              "      <td>0</td>\n",
              "      <td>15390.040039</td>\n",
              "      <td>36.999736</td>\n",
              "      <td>52.999656</td>\n",
              "      <td>36.999736</td>\n",
              "      <td>56.000009</td>\n",
              "      <td>60.0</td>\n",
              "      <td>39.993999</td>\n",
              "    </tr>\n",
              "    <tr>\n",
              "      <th>4</th>\n",
              "      <td>5</td>\n",
              "      <td>1</td>\n",
              "      <td>1</td>\n",
              "      <td>0</td>\n",
              "      <td>0</td>\n",
              "      <td>0</td>\n",
              "      <td>1</td>\n",
              "      <td>0</td>\n",
              "      <td>1</td>\n",
              "      <td>1</td>\n",
              "      <td>...</td>\n",
              "      <td>180</td>\n",
              "      <td>151000</td>\n",
              "      <td>0</td>\n",
              "      <td>15390.040039</td>\n",
              "      <td>40.999654</td>\n",
              "      <td>57.000148</td>\n",
              "      <td>40.999654</td>\n",
              "      <td>51.000008</td>\n",
              "      <td>87.0</td>\n",
              "      <td>13.119027</td>\n",
              "    </tr>\n",
              "  </tbody>\n",
              "</table>\n",
              "<p>5 rows × 38 columns</p>\n",
              "</div>\n",
              "    <div class=\"colab-df-buttons\">\n",
              "\n",
              "  <div class=\"colab-df-container\">\n",
              "    <button class=\"colab-df-convert\" onclick=\"convertToInteractive('df-d82048b4-9d8e-4576-85c5-dbc0c2ba5de4')\"\n",
              "            title=\"Convert this dataframe to an interactive table.\"\n",
              "            style=\"display:none;\">\n",
              "\n",
              "  <svg xmlns=\"http://www.w3.org/2000/svg\" height=\"24px\" viewBox=\"0 -960 960 960\">\n",
              "    <path d=\"M120-120v-720h720v720H120Zm60-500h600v-160H180v160Zm220 220h160v-160H400v160Zm0 220h160v-160H400v160ZM180-400h160v-160H180v160Zm440 0h160v-160H620v160ZM180-180h160v-160H180v160Zm440 0h160v-160H620v160Z\"/>\n",
              "  </svg>\n",
              "    </button>\n",
              "\n",
              "  <style>\n",
              "    .colab-df-container {\n",
              "      display:flex;\n",
              "      gap: 12px;\n",
              "    }\n",
              "\n",
              "    .colab-df-convert {\n",
              "      background-color: #E8F0FE;\n",
              "      border: none;\n",
              "      border-radius: 50%;\n",
              "      cursor: pointer;\n",
              "      display: none;\n",
              "      fill: #1967D2;\n",
              "      height: 32px;\n",
              "      padding: 0 0 0 0;\n",
              "      width: 32px;\n",
              "    }\n",
              "\n",
              "    .colab-df-convert:hover {\n",
              "      background-color: #E2EBFA;\n",
              "      box-shadow: 0px 1px 2px rgba(60, 64, 67, 0.3), 0px 1px 3px 1px rgba(60, 64, 67, 0.15);\n",
              "      fill: #174EA6;\n",
              "    }\n",
              "\n",
              "    .colab-df-buttons div {\n",
              "      margin-bottom: 4px;\n",
              "    }\n",
              "\n",
              "    [theme=dark] .colab-df-convert {\n",
              "      background-color: #3B4455;\n",
              "      fill: #D2E3FC;\n",
              "    }\n",
              "\n",
              "    [theme=dark] .colab-df-convert:hover {\n",
              "      background-color: #434B5C;\n",
              "      box-shadow: 0px 1px 3px 1px rgba(0, 0, 0, 0.15);\n",
              "      filter: drop-shadow(0px 1px 2px rgba(0, 0, 0, 0.3));\n",
              "      fill: #FFFFFF;\n",
              "    }\n",
              "  </style>\n",
              "\n",
              "    <script>\n",
              "      const buttonEl =\n",
              "        document.querySelector('#df-d82048b4-9d8e-4576-85c5-dbc0c2ba5de4 button.colab-df-convert');\n",
              "      buttonEl.style.display =\n",
              "        google.colab.kernel.accessAllowed ? 'block' : 'none';\n",
              "\n",
              "      async function convertToInteractive(key) {\n",
              "        const element = document.querySelector('#df-d82048b4-9d8e-4576-85c5-dbc0c2ba5de4');\n",
              "        const dataTable =\n",
              "          await google.colab.kernel.invokeFunction('convertToInteractive',\n",
              "                                                    [key], {});\n",
              "        if (!dataTable) return;\n",
              "\n",
              "        const docLinkHtml = 'Like what you see? Visit the ' +\n",
              "          '<a target=\"_blank\" href=https://colab.research.google.com/notebooks/data_table.ipynb>data table notebook</a>'\n",
              "          + ' to learn more about interactive tables.';\n",
              "        element.innerHTML = '';\n",
              "        dataTable['output_type'] = 'display_data';\n",
              "        await google.colab.output.renderOutput(dataTable, element);\n",
              "        const docLink = document.createElement('div');\n",
              "        docLink.innerHTML = docLinkHtml;\n",
              "        element.appendChild(docLink);\n",
              "      }\n",
              "    </script>\n",
              "  </div>\n",
              "\n",
              "\n",
              "<div id=\"df-34dbb911-cbe0-4d8a-a936-01426903cf3b\">\n",
              "  <button class=\"colab-df-quickchart\" onclick=\"quickchart('df-34dbb911-cbe0-4d8a-a936-01426903cf3b')\"\n",
              "            title=\"Suggest charts\"\n",
              "            style=\"display:none;\">\n",
              "\n",
              "<svg xmlns=\"http://www.w3.org/2000/svg\" height=\"24px\"viewBox=\"0 0 24 24\"\n",
              "     width=\"24px\">\n",
              "    <g>\n",
              "        <path d=\"M19 3H5c-1.1 0-2 .9-2 2v14c0 1.1.9 2 2 2h14c1.1 0 2-.9 2-2V5c0-1.1-.9-2-2-2zM9 17H7v-7h2v7zm4 0h-2V7h2v10zm4 0h-2v-4h2v4z\"/>\n",
              "    </g>\n",
              "</svg>\n",
              "  </button>\n",
              "\n",
              "<style>\n",
              "  .colab-df-quickchart {\n",
              "      --bg-color: #E8F0FE;\n",
              "      --fill-color: #1967D2;\n",
              "      --hover-bg-color: #E2EBFA;\n",
              "      --hover-fill-color: #174EA6;\n",
              "      --disabled-fill-color: #AAA;\n",
              "      --disabled-bg-color: #DDD;\n",
              "  }\n",
              "\n",
              "  [theme=dark] .colab-df-quickchart {\n",
              "      --bg-color: #3B4455;\n",
              "      --fill-color: #D2E3FC;\n",
              "      --hover-bg-color: #434B5C;\n",
              "      --hover-fill-color: #FFFFFF;\n",
              "      --disabled-bg-color: #3B4455;\n",
              "      --disabled-fill-color: #666;\n",
              "  }\n",
              "\n",
              "  .colab-df-quickchart {\n",
              "    background-color: var(--bg-color);\n",
              "    border: none;\n",
              "    border-radius: 50%;\n",
              "    cursor: pointer;\n",
              "    display: none;\n",
              "    fill: var(--fill-color);\n",
              "    height: 32px;\n",
              "    padding: 0;\n",
              "    width: 32px;\n",
              "  }\n",
              "\n",
              "  .colab-df-quickchart:hover {\n",
              "    background-color: var(--hover-bg-color);\n",
              "    box-shadow: 0 1px 2px rgba(60, 64, 67, 0.3), 0 1px 3px 1px rgba(60, 64, 67, 0.15);\n",
              "    fill: var(--button-hover-fill-color);\n",
              "  }\n",
              "\n",
              "  .colab-df-quickchart-complete:disabled,\n",
              "  .colab-df-quickchart-complete:disabled:hover {\n",
              "    background-color: var(--disabled-bg-color);\n",
              "    fill: var(--disabled-fill-color);\n",
              "    box-shadow: none;\n",
              "  }\n",
              "\n",
              "  .colab-df-spinner {\n",
              "    border: 2px solid var(--fill-color);\n",
              "    border-color: transparent;\n",
              "    border-bottom-color: var(--fill-color);\n",
              "    animation:\n",
              "      spin 1s steps(1) infinite;\n",
              "  }\n",
              "\n",
              "  @keyframes spin {\n",
              "    0% {\n",
              "      border-color: transparent;\n",
              "      border-bottom-color: var(--fill-color);\n",
              "      border-left-color: var(--fill-color);\n",
              "    }\n",
              "    20% {\n",
              "      border-color: transparent;\n",
              "      border-left-color: var(--fill-color);\n",
              "      border-top-color: var(--fill-color);\n",
              "    }\n",
              "    30% {\n",
              "      border-color: transparent;\n",
              "      border-left-color: var(--fill-color);\n",
              "      border-top-color: var(--fill-color);\n",
              "      border-right-color: var(--fill-color);\n",
              "    }\n",
              "    40% {\n",
              "      border-color: transparent;\n",
              "      border-right-color: var(--fill-color);\n",
              "      border-top-color: var(--fill-color);\n",
              "    }\n",
              "    60% {\n",
              "      border-color: transparent;\n",
              "      border-right-color: var(--fill-color);\n",
              "    }\n",
              "    80% {\n",
              "      border-color: transparent;\n",
              "      border-right-color: var(--fill-color);\n",
              "      border-bottom-color: var(--fill-color);\n",
              "    }\n",
              "    90% {\n",
              "      border-color: transparent;\n",
              "      border-bottom-color: var(--fill-color);\n",
              "    }\n",
              "  }\n",
              "</style>\n",
              "\n",
              "  <script>\n",
              "    async function quickchart(key) {\n",
              "      const quickchartButtonEl =\n",
              "        document.querySelector('#' + key + ' button');\n",
              "      quickchartButtonEl.disabled = true;  // To prevent multiple clicks.\n",
              "      quickchartButtonEl.classList.add('colab-df-spinner');\n",
              "      try {\n",
              "        const charts = await google.colab.kernel.invokeFunction(\n",
              "            'suggestCharts', [key], {});\n",
              "      } catch (error) {\n",
              "        console.error('Error during call to suggestCharts:', error);\n",
              "      }\n",
              "      quickchartButtonEl.classList.remove('colab-df-spinner');\n",
              "      quickchartButtonEl.classList.add('colab-df-quickchart-complete');\n",
              "    }\n",
              "    (() => {\n",
              "      let quickchartButtonEl =\n",
              "        document.querySelector('#df-34dbb911-cbe0-4d8a-a936-01426903cf3b button');\n",
              "      quickchartButtonEl.style.display =\n",
              "        google.colab.kernel.accessAllowed ? 'block' : 'none';\n",
              "    })();\n",
              "  </script>\n",
              "</div>\n",
              "\n",
              "    </div>\n",
              "  </div>\n"
            ],
            "application/vnd.google.colaboratory.intrinsic+json": {
              "type": "dataframe",
              "variable_name": "df"
            }
          },
          "metadata": {},
          "execution_count": 2
        }
      ]
    },
    {
      "cell_type": "code",
      "source": [
        "df.columns"
      ],
      "metadata": {
        "colab": {
          "base_uri": "https://localhost:8080/"
        },
        "id": "ccTcJvpvPgZN",
        "outputId": "89871599-af9b-4f4f-bba8-ce181cfd3c0e"
      },
      "execution_count": 3,
      "outputs": [
        {
          "output_type": "execute_result",
          "data": {
            "text/plain": [
              "Index(['ID', 'Decision', 'Selfcon_Code', 'Tier_1', 'Tier_2', 'AccoClass',\n",
              "       'LoanType', 'Gender', 'Etype', 'Doc_pf', 'Marstat', 'Emp_Type_1',\n",
              "       'Emp_Type_2', 'Emp_Type_3', 'Educlass_2', 'Educlass_1', 'Oriclass_1',\n",
              "       'Oriclass_2', 'eom_25', 'OldEmi_d', 'BankSave_d', 'Age', 'YrsAdd',\n",
              "       'YrsJob', 'DispInc', 'MarVal', 'OldEmi', 'LoanReq', 'Term', 'Dwnpay',\n",
              "       'BankSave', 'CalcEmi', 'IIR', 'IAR', 'FOIR', 'LTV', 'LVR',\n",
              "       'dwnp_prop_p'],\n",
              "      dtype='object')"
            ]
          },
          "metadata": {},
          "execution_count": 3
        }
      ]
    },
    {
      "cell_type": "code",
      "source": [
        "df.info()"
      ],
      "metadata": {
        "colab": {
          "base_uri": "https://localhost:8080/"
        },
        "id": "vOdYeu6UP5po",
        "outputId": "1a9d241c-fd01-4183-8c14-a05f1e52299f"
      },
      "execution_count": 4,
      "outputs": [
        {
          "output_type": "stream",
          "name": "stdout",
          "text": [
            "<class 'pandas.core.frame.DataFrame'>\n",
            "RangeIndex: 1570 entries, 0 to 1569\n",
            "Data columns (total 38 columns):\n",
            " #   Column        Non-Null Count  Dtype  \n",
            "---  ------        --------------  -----  \n",
            " 0   ID            1570 non-null   int64  \n",
            " 1   Decision      1570 non-null   int64  \n",
            " 2   Selfcon_Code  1570 non-null   int64  \n",
            " 3   Tier_1        1570 non-null   int64  \n",
            " 4   Tier_2        1570 non-null   int64  \n",
            " 5   AccoClass     1570 non-null   int64  \n",
            " 6   LoanType      1570 non-null   int64  \n",
            " 7   Gender        1570 non-null   int64  \n",
            " 8   Etype         1570 non-null   int64  \n",
            " 9   Doc_pf        1570 non-null   int64  \n",
            " 10  Marstat       1570 non-null   int64  \n",
            " 11  Emp_Type_1    1570 non-null   int64  \n",
            " 12  Emp_Type_2    1570 non-null   int64  \n",
            " 13  Emp_Type_3    1570 non-null   int64  \n",
            " 14  Educlass_2    1570 non-null   int64  \n",
            " 15  Educlass_1    1570 non-null   int64  \n",
            " 16  Oriclass_1    1570 non-null   int64  \n",
            " 17  Oriclass_2    1570 non-null   int64  \n",
            " 18  eom_25        1570 non-null   int64  \n",
            " 19  OldEmi_d      1570 non-null   int64  \n",
            " 20  BankSave_d    1570 non-null   int64  \n",
            " 21  Age           1570 non-null   int64  \n",
            " 22  YrsAdd        1570 non-null   int64  \n",
            " 23  YrsJob        1570 non-null   int64  \n",
            " 24  DispInc       1570 non-null   int64  \n",
            " 25  MarVal        1570 non-null   int64  \n",
            " 26  OldEmi        1570 non-null   int64  \n",
            " 27  LoanReq       1570 non-null   int64  \n",
            " 28  Term          1570 non-null   int64  \n",
            " 29  Dwnpay        1570 non-null   int64  \n",
            " 30  BankSave      1570 non-null   int64  \n",
            " 31  CalcEmi       1570 non-null   float64\n",
            " 32  IIR           1570 non-null   float64\n",
            " 33  IAR           1570 non-null   float64\n",
            " 34  FOIR          1570 non-null   float64\n",
            " 35  LTV           1570 non-null   float64\n",
            " 36  LVR           1570 non-null   float64\n",
            " 37  dwnp_prop_p   1570 non-null   float64\n",
            "dtypes: float64(7), int64(31)\n",
            "memory usage: 466.2 KB\n"
          ]
        }
      ]
    },
    {
      "cell_type": "markdown",
      "source": [
        "## Data Preparation and pre-processing"
      ],
      "metadata": {
        "id": "Z9YQ39ycgi2g"
      }
    },
    {
      "cell_type": "code",
      "source": [
        "df.isna().sum()"
      ],
      "metadata": {
        "colab": {
          "base_uri": "https://localhost:8080/"
        },
        "id": "5rhfUFAui0Lq",
        "outputId": "b1351e5f-3f97-4937-d1fd-c85d77416297"
      },
      "execution_count": 6,
      "outputs": [
        {
          "output_type": "execute_result",
          "data": {
            "text/plain": [
              "ID              0\n",
              "Decision        0\n",
              "Selfcon_Code    0\n",
              "Tier_1          0\n",
              "Tier_2          0\n",
              "AccoClass       0\n",
              "LoanType        0\n",
              "Gender          0\n",
              "Etype           0\n",
              "Doc_pf          0\n",
              "Marstat         0\n",
              "Emp_Type_1      0\n",
              "Emp_Type_2      0\n",
              "Emp_Type_3      0\n",
              "Educlass_2      0\n",
              "Educlass_1      0\n",
              "Oriclass_1      0\n",
              "Oriclass_2      0\n",
              "eom_25          0\n",
              "OldEmi_d        0\n",
              "BankSave_d      0\n",
              "Age             0\n",
              "YrsAdd          0\n",
              "YrsJob          0\n",
              "DispInc         0\n",
              "MarVal          0\n",
              "OldEmi          0\n",
              "LoanReq         0\n",
              "Term            0\n",
              "Dwnpay          0\n",
              "BankSave        0\n",
              "CalcEmi         0\n",
              "IIR             0\n",
              "IAR             0\n",
              "FOIR            0\n",
              "LTV             0\n",
              "LVR             0\n",
              "dwnp_prop_p     0\n",
              "dtype: int64"
            ]
          },
          "metadata": {},
          "execution_count": 6
        }
      ]
    },
    {
      "cell_type": "code",
      "source": [
        "df=df.iloc[:,1:]\n",
        "df.head()"
      ],
      "metadata": {
        "colab": {
          "base_uri": "https://localhost:8080/",
          "height": 255
        },
        "id": "Pzb9QJ9AQMrg",
        "outputId": "a360b91e-2935-4f47-ffca-671f2406aef7"
      },
      "execution_count": null,
      "outputs": [
        {
          "output_type": "execute_result",
          "data": {
            "text/plain": [
              "   Decision  Selfcon_Code  Tier_1  Tier_2  AccoClass  LoanType  Gender  Etype  \\\n",
              "0         0             1       0       0          0         1       0      1   \n",
              "1         0             1       0       0          0         1       0      0   \n",
              "2         1             1       0       0          0         0       0      1   \n",
              "3         1             1       0       0          1         1       0      1   \n",
              "4         1             1       0       0          0         1       0      1   \n",
              "\n",
              "   Doc_pf  Marstat  ...  Term  Dwnpay  BankSave       CalcEmi        IIR  \\\n",
              "0       0        1  ...    84  300000         0   4087.159912   7.999922   \n",
              "1       1        1  ...   180  130000         0   4924.810059  21.999509   \n",
              "2       1        1  ...    84  557000         0  11712.969727  36.000030   \n",
              "3       1        1  ...   180  666500         0  15390.040039  36.999736   \n",
              "4       1        1  ...   180  151000         0  15390.040039  40.999654   \n",
              "\n",
              "         IAR       FOIR        LTV   LVR  dwnp_prop_p  \n",
              "0  11.000000  22.300176  40.000000  40.0    60.000000  \n",
              "1  38.999129  32.858975  71.000036  71.0    28.888889  \n",
              "2  56.000047  36.000030  17.999999  47.0    52.696310  \n",
              "3  52.999656  36.999736  56.000009  60.0    39.993999  \n",
              "4  57.000148  40.999654  51.000008  87.0    13.119027  \n",
              "\n",
              "[5 rows x 37 columns]"
            ],
            "text/html": [
              "\n",
              "  <div id=\"df-8ceeb7a9-a387-4b78-8aa4-79f3c3b6ee74\" class=\"colab-df-container\">\n",
              "    <div>\n",
              "<style scoped>\n",
              "    .dataframe tbody tr th:only-of-type {\n",
              "        vertical-align: middle;\n",
              "    }\n",
              "\n",
              "    .dataframe tbody tr th {\n",
              "        vertical-align: top;\n",
              "    }\n",
              "\n",
              "    .dataframe thead th {\n",
              "        text-align: right;\n",
              "    }\n",
              "</style>\n",
              "<table border=\"1\" class=\"dataframe\">\n",
              "  <thead>\n",
              "    <tr style=\"text-align: right;\">\n",
              "      <th></th>\n",
              "      <th>Decision</th>\n",
              "      <th>Selfcon_Code</th>\n",
              "      <th>Tier_1</th>\n",
              "      <th>Tier_2</th>\n",
              "      <th>AccoClass</th>\n",
              "      <th>LoanType</th>\n",
              "      <th>Gender</th>\n",
              "      <th>Etype</th>\n",
              "      <th>Doc_pf</th>\n",
              "      <th>Marstat</th>\n",
              "      <th>...</th>\n",
              "      <th>Term</th>\n",
              "      <th>Dwnpay</th>\n",
              "      <th>BankSave</th>\n",
              "      <th>CalcEmi</th>\n",
              "      <th>IIR</th>\n",
              "      <th>IAR</th>\n",
              "      <th>FOIR</th>\n",
              "      <th>LTV</th>\n",
              "      <th>LVR</th>\n",
              "      <th>dwnp_prop_p</th>\n",
              "    </tr>\n",
              "  </thead>\n",
              "  <tbody>\n",
              "    <tr>\n",
              "      <th>0</th>\n",
              "      <td>0</td>\n",
              "      <td>1</td>\n",
              "      <td>0</td>\n",
              "      <td>0</td>\n",
              "      <td>0</td>\n",
              "      <td>1</td>\n",
              "      <td>0</td>\n",
              "      <td>1</td>\n",
              "      <td>0</td>\n",
              "      <td>1</td>\n",
              "      <td>...</td>\n",
              "      <td>84</td>\n",
              "      <td>300000</td>\n",
              "      <td>0</td>\n",
              "      <td>4087.159912</td>\n",
              "      <td>7.999922</td>\n",
              "      <td>11.000000</td>\n",
              "      <td>22.300176</td>\n",
              "      <td>40.000000</td>\n",
              "      <td>40.0</td>\n",
              "      <td>60.000000</td>\n",
              "    </tr>\n",
              "    <tr>\n",
              "      <th>1</th>\n",
              "      <td>0</td>\n",
              "      <td>1</td>\n",
              "      <td>0</td>\n",
              "      <td>0</td>\n",
              "      <td>0</td>\n",
              "      <td>1</td>\n",
              "      <td>0</td>\n",
              "      <td>0</td>\n",
              "      <td>1</td>\n",
              "      <td>1</td>\n",
              "      <td>...</td>\n",
              "      <td>180</td>\n",
              "      <td>130000</td>\n",
              "      <td>0</td>\n",
              "      <td>4924.810059</td>\n",
              "      <td>21.999509</td>\n",
              "      <td>38.999129</td>\n",
              "      <td>32.858975</td>\n",
              "      <td>71.000036</td>\n",
              "      <td>71.0</td>\n",
              "      <td>28.888889</td>\n",
              "    </tr>\n",
              "    <tr>\n",
              "      <th>2</th>\n",
              "      <td>1</td>\n",
              "      <td>1</td>\n",
              "      <td>0</td>\n",
              "      <td>0</td>\n",
              "      <td>0</td>\n",
              "      <td>0</td>\n",
              "      <td>0</td>\n",
              "      <td>1</td>\n",
              "      <td>1</td>\n",
              "      <td>1</td>\n",
              "      <td>...</td>\n",
              "      <td>84</td>\n",
              "      <td>557000</td>\n",
              "      <td>0</td>\n",
              "      <td>11712.969727</td>\n",
              "      <td>36.000030</td>\n",
              "      <td>56.000047</td>\n",
              "      <td>36.000030</td>\n",
              "      <td>17.999999</td>\n",
              "      <td>47.0</td>\n",
              "      <td>52.696310</td>\n",
              "    </tr>\n",
              "    <tr>\n",
              "      <th>3</th>\n",
              "      <td>1</td>\n",
              "      <td>1</td>\n",
              "      <td>0</td>\n",
              "      <td>0</td>\n",
              "      <td>1</td>\n",
              "      <td>1</td>\n",
              "      <td>0</td>\n",
              "      <td>1</td>\n",
              "      <td>1</td>\n",
              "      <td>1</td>\n",
              "      <td>...</td>\n",
              "      <td>180</td>\n",
              "      <td>666500</td>\n",
              "      <td>0</td>\n",
              "      <td>15390.040039</td>\n",
              "      <td>36.999736</td>\n",
              "      <td>52.999656</td>\n",
              "      <td>36.999736</td>\n",
              "      <td>56.000009</td>\n",
              "      <td>60.0</td>\n",
              "      <td>39.993999</td>\n",
              "    </tr>\n",
              "    <tr>\n",
              "      <th>4</th>\n",
              "      <td>1</td>\n",
              "      <td>1</td>\n",
              "      <td>0</td>\n",
              "      <td>0</td>\n",
              "      <td>0</td>\n",
              "      <td>1</td>\n",
              "      <td>0</td>\n",
              "      <td>1</td>\n",
              "      <td>1</td>\n",
              "      <td>1</td>\n",
              "      <td>...</td>\n",
              "      <td>180</td>\n",
              "      <td>151000</td>\n",
              "      <td>0</td>\n",
              "      <td>15390.040039</td>\n",
              "      <td>40.999654</td>\n",
              "      <td>57.000148</td>\n",
              "      <td>40.999654</td>\n",
              "      <td>51.000008</td>\n",
              "      <td>87.0</td>\n",
              "      <td>13.119027</td>\n",
              "    </tr>\n",
              "  </tbody>\n",
              "</table>\n",
              "<p>5 rows × 37 columns</p>\n",
              "</div>\n",
              "    <div class=\"colab-df-buttons\">\n",
              "\n",
              "  <div class=\"colab-df-container\">\n",
              "    <button class=\"colab-df-convert\" onclick=\"convertToInteractive('df-8ceeb7a9-a387-4b78-8aa4-79f3c3b6ee74')\"\n",
              "            title=\"Convert this dataframe to an interactive table.\"\n",
              "            style=\"display:none;\">\n",
              "\n",
              "  <svg xmlns=\"http://www.w3.org/2000/svg\" height=\"24px\" viewBox=\"0 -960 960 960\">\n",
              "    <path d=\"M120-120v-720h720v720H120Zm60-500h600v-160H180v160Zm220 220h160v-160H400v160Zm0 220h160v-160H400v160ZM180-400h160v-160H180v160Zm440 0h160v-160H620v160ZM180-180h160v-160H180v160Zm440 0h160v-160H620v160Z\"/>\n",
              "  </svg>\n",
              "    </button>\n",
              "\n",
              "  <style>\n",
              "    .colab-df-container {\n",
              "      display:flex;\n",
              "      gap: 12px;\n",
              "    }\n",
              "\n",
              "    .colab-df-convert {\n",
              "      background-color: #E8F0FE;\n",
              "      border: none;\n",
              "      border-radius: 50%;\n",
              "      cursor: pointer;\n",
              "      display: none;\n",
              "      fill: #1967D2;\n",
              "      height: 32px;\n",
              "      padding: 0 0 0 0;\n",
              "      width: 32px;\n",
              "    }\n",
              "\n",
              "    .colab-df-convert:hover {\n",
              "      background-color: #E2EBFA;\n",
              "      box-shadow: 0px 1px 2px rgba(60, 64, 67, 0.3), 0px 1px 3px 1px rgba(60, 64, 67, 0.15);\n",
              "      fill: #174EA6;\n",
              "    }\n",
              "\n",
              "    .colab-df-buttons div {\n",
              "      margin-bottom: 4px;\n",
              "    }\n",
              "\n",
              "    [theme=dark] .colab-df-convert {\n",
              "      background-color: #3B4455;\n",
              "      fill: #D2E3FC;\n",
              "    }\n",
              "\n",
              "    [theme=dark] .colab-df-convert:hover {\n",
              "      background-color: #434B5C;\n",
              "      box-shadow: 0px 1px 3px 1px rgba(0, 0, 0, 0.15);\n",
              "      filter: drop-shadow(0px 1px 2px rgba(0, 0, 0, 0.3));\n",
              "      fill: #FFFFFF;\n",
              "    }\n",
              "  </style>\n",
              "\n",
              "    <script>\n",
              "      const buttonEl =\n",
              "        document.querySelector('#df-8ceeb7a9-a387-4b78-8aa4-79f3c3b6ee74 button.colab-df-convert');\n",
              "      buttonEl.style.display =\n",
              "        google.colab.kernel.accessAllowed ? 'block' : 'none';\n",
              "\n",
              "      async function convertToInteractive(key) {\n",
              "        const element = document.querySelector('#df-8ceeb7a9-a387-4b78-8aa4-79f3c3b6ee74');\n",
              "        const dataTable =\n",
              "          await google.colab.kernel.invokeFunction('convertToInteractive',\n",
              "                                                    [key], {});\n",
              "        if (!dataTable) return;\n",
              "\n",
              "        const docLinkHtml = 'Like what you see? Visit the ' +\n",
              "          '<a target=\"_blank\" href=https://colab.research.google.com/notebooks/data_table.ipynb>data table notebook</a>'\n",
              "          + ' to learn more about interactive tables.';\n",
              "        element.innerHTML = '';\n",
              "        dataTable['output_type'] = 'display_data';\n",
              "        await google.colab.output.renderOutput(dataTable, element);\n",
              "        const docLink = document.createElement('div');\n",
              "        docLink.innerHTML = docLinkHtml;\n",
              "        element.appendChild(docLink);\n",
              "      }\n",
              "    </script>\n",
              "  </div>\n",
              "\n",
              "\n",
              "<div id=\"df-24b828d3-fb52-463f-add3-d2dbf96f3d2b\">\n",
              "  <button class=\"colab-df-quickchart\" onclick=\"quickchart('df-24b828d3-fb52-463f-add3-d2dbf96f3d2b')\"\n",
              "            title=\"Suggest charts\"\n",
              "            style=\"display:none;\">\n",
              "\n",
              "<svg xmlns=\"http://www.w3.org/2000/svg\" height=\"24px\"viewBox=\"0 0 24 24\"\n",
              "     width=\"24px\">\n",
              "    <g>\n",
              "        <path d=\"M19 3H5c-1.1 0-2 .9-2 2v14c0 1.1.9 2 2 2h14c1.1 0 2-.9 2-2V5c0-1.1-.9-2-2-2zM9 17H7v-7h2v7zm4 0h-2V7h2v10zm4 0h-2v-4h2v4z\"/>\n",
              "    </g>\n",
              "</svg>\n",
              "  </button>\n",
              "\n",
              "<style>\n",
              "  .colab-df-quickchart {\n",
              "      --bg-color: #E8F0FE;\n",
              "      --fill-color: #1967D2;\n",
              "      --hover-bg-color: #E2EBFA;\n",
              "      --hover-fill-color: #174EA6;\n",
              "      --disabled-fill-color: #AAA;\n",
              "      --disabled-bg-color: #DDD;\n",
              "  }\n",
              "\n",
              "  [theme=dark] .colab-df-quickchart {\n",
              "      --bg-color: #3B4455;\n",
              "      --fill-color: #D2E3FC;\n",
              "      --hover-bg-color: #434B5C;\n",
              "      --hover-fill-color: #FFFFFF;\n",
              "      --disabled-bg-color: #3B4455;\n",
              "      --disabled-fill-color: #666;\n",
              "  }\n",
              "\n",
              "  .colab-df-quickchart {\n",
              "    background-color: var(--bg-color);\n",
              "    border: none;\n",
              "    border-radius: 50%;\n",
              "    cursor: pointer;\n",
              "    display: none;\n",
              "    fill: var(--fill-color);\n",
              "    height: 32px;\n",
              "    padding: 0;\n",
              "    width: 32px;\n",
              "  }\n",
              "\n",
              "  .colab-df-quickchart:hover {\n",
              "    background-color: var(--hover-bg-color);\n",
              "    box-shadow: 0 1px 2px rgba(60, 64, 67, 0.3), 0 1px 3px 1px rgba(60, 64, 67, 0.15);\n",
              "    fill: var(--button-hover-fill-color);\n",
              "  }\n",
              "\n",
              "  .colab-df-quickchart-complete:disabled,\n",
              "  .colab-df-quickchart-complete:disabled:hover {\n",
              "    background-color: var(--disabled-bg-color);\n",
              "    fill: var(--disabled-fill-color);\n",
              "    box-shadow: none;\n",
              "  }\n",
              "\n",
              "  .colab-df-spinner {\n",
              "    border: 2px solid var(--fill-color);\n",
              "    border-color: transparent;\n",
              "    border-bottom-color: var(--fill-color);\n",
              "    animation:\n",
              "      spin 1s steps(1) infinite;\n",
              "  }\n",
              "\n",
              "  @keyframes spin {\n",
              "    0% {\n",
              "      border-color: transparent;\n",
              "      border-bottom-color: var(--fill-color);\n",
              "      border-left-color: var(--fill-color);\n",
              "    }\n",
              "    20% {\n",
              "      border-color: transparent;\n",
              "      border-left-color: var(--fill-color);\n",
              "      border-top-color: var(--fill-color);\n",
              "    }\n",
              "    30% {\n",
              "      border-color: transparent;\n",
              "      border-left-color: var(--fill-color);\n",
              "      border-top-color: var(--fill-color);\n",
              "      border-right-color: var(--fill-color);\n",
              "    }\n",
              "    40% {\n",
              "      border-color: transparent;\n",
              "      border-right-color: var(--fill-color);\n",
              "      border-top-color: var(--fill-color);\n",
              "    }\n",
              "    60% {\n",
              "      border-color: transparent;\n",
              "      border-right-color: var(--fill-color);\n",
              "    }\n",
              "    80% {\n",
              "      border-color: transparent;\n",
              "      border-right-color: var(--fill-color);\n",
              "      border-bottom-color: var(--fill-color);\n",
              "    }\n",
              "    90% {\n",
              "      border-color: transparent;\n",
              "      border-bottom-color: var(--fill-color);\n",
              "    }\n",
              "  }\n",
              "</style>\n",
              "\n",
              "  <script>\n",
              "    async function quickchart(key) {\n",
              "      const quickchartButtonEl =\n",
              "        document.querySelector('#' + key + ' button');\n",
              "      quickchartButtonEl.disabled = true;  // To prevent multiple clicks.\n",
              "      quickchartButtonEl.classList.add('colab-df-spinner');\n",
              "      try {\n",
              "        const charts = await google.colab.kernel.invokeFunction(\n",
              "            'suggestCharts', [key], {});\n",
              "      } catch (error) {\n",
              "        console.error('Error during call to suggestCharts:', error);\n",
              "      }\n",
              "      quickchartButtonEl.classList.remove('colab-df-spinner');\n",
              "      quickchartButtonEl.classList.add('colab-df-quickchart-complete');\n",
              "    }\n",
              "    (() => {\n",
              "      let quickchartButtonEl =\n",
              "        document.querySelector('#df-24b828d3-fb52-463f-add3-d2dbf96f3d2b button');\n",
              "      quickchartButtonEl.style.display =\n",
              "        google.colab.kernel.accessAllowed ? 'block' : 'none';\n",
              "    })();\n",
              "  </script>\n",
              "</div>\n",
              "\n",
              "    </div>\n",
              "  </div>\n"
            ],
            "application/vnd.google.colaboratory.intrinsic+json": {
              "type": "dataframe",
              "variable_name": "df"
            }
          },
          "metadata": {},
          "execution_count": 22
        }
      ]
    },
    {
      "cell_type": "code",
      "source": [
        "# Setting up Independent and Dependent variable\n",
        "x=df.iloc[:,1:]\n",
        "y=df['Decision']"
      ],
      "metadata": {
        "id": "eEuEN2iVQdwj"
      },
      "execution_count": null,
      "outputs": []
    },
    {
      "cell_type": "code",
      "source": [
        "y.head()"
      ],
      "metadata": {
        "colab": {
          "base_uri": "https://localhost:8080/"
        },
        "id": "i9futEQsQ3mH",
        "outputId": "f0b943cc-588c-483d-ffd6-f17e0c26e9a4"
      },
      "execution_count": null,
      "outputs": [
        {
          "output_type": "execute_result",
          "data": {
            "text/plain": [
              "0    0\n",
              "1    0\n",
              "2    1\n",
              "3    1\n",
              "4    1\n",
              "Name: Decision, dtype: int64"
            ]
          },
          "metadata": {},
          "execution_count": 25
        }
      ]
    },
    {
      "cell_type": "code",
      "source": [
        "y.value_counts()"
      ],
      "metadata": {
        "colab": {
          "base_uri": "https://localhost:8080/"
        },
        "id": "PzShY47dQ5EL",
        "outputId": "a622e697-9f06-4271-c775-cec885bbf5d3"
      },
      "execution_count": null,
      "outputs": [
        {
          "output_type": "execute_result",
          "data": {
            "text/plain": [
              "Decision\n",
              "1    1255\n",
              "0     315\n",
              "Name: count, dtype: int64"
            ]
          },
          "metadata": {},
          "execution_count": 27
        }
      ]
    },
    {
      "cell_type": "code",
      "source": [
        "print(\"Percent of Decision 0 class: \",y.value_counts()[0]/len(y))\n",
        "print(\"Percent of Decision 1 class: \",y.value_counts()[1]/len(y))"
      ],
      "metadata": {
        "colab": {
          "base_uri": "https://localhost:8080/"
        },
        "id": "sgvFHykKRGF0",
        "outputId": "a7f488f7-b4ad-4516-a7e1-0eb5ac12bfa7"
      },
      "execution_count": null,
      "outputs": [
        {
          "output_type": "stream",
          "name": "stdout",
          "text": [
            "Percent of Decision 0 class:  0.20063694267515925\n",
            "Percent of Decision 1 class:  0.7993630573248408\n"
          ]
        }
      ]
    },
    {
      "cell_type": "code",
      "source": [
        "# Split the dataset into training and test set\n",
        "from sklearn.model_selection import train_test_split\n",
        "x_train,x_val,y_train,y_val=train_test_split(x,y,test_size=0.2,stratify=y,random_state=1)"
      ],
      "metadata": {
        "id": "c82s5pYQR4Sl"
      },
      "execution_count": null,
      "outputs": []
    },
    {
      "cell_type": "code",
      "source": [
        "print(x_train.shape)\n",
        "print(x_val.shape)"
      ],
      "metadata": {
        "colab": {
          "base_uri": "https://localhost:8080/"
        },
        "id": "tzfkxy01SeIJ",
        "outputId": "b08d25db-1010-4352-8c06-dc187aaca3e9"
      },
      "execution_count": null,
      "outputs": [
        {
          "output_type": "stream",
          "name": "stdout",
          "text": [
            "(1256, 36)\n",
            "(314, 36)\n"
          ]
        }
      ]
    },
    {
      "cell_type": "code",
      "source": [
        "num_inputs=x_train.shape[1]"
      ],
      "metadata": {
        "id": "a3hbcvjwURoC"
      },
      "execution_count": null,
      "outputs": []
    },
    {
      "cell_type": "markdown",
      "source": [
        "## Feature Scaling"
      ],
      "metadata": {
        "id": "mR6i6SQxS6SZ"
      }
    },
    {
      "cell_type": "code",
      "source": [
        "from sklearn.preprocessing import StandardScaler\n",
        "sc=StandardScaler()\n",
        "x_train=sc.fit_transform(x_train)\n",
        "x_val=sc.transform(x_val)"
      ],
      "metadata": {
        "colab": {
          "base_uri": "https://localhost:8080/"
        },
        "id": "2lpO59kQSgo4",
        "outputId": "e920274c-10b6-4b71-8e0a-7542626f36ba"
      },
      "execution_count": null,
      "outputs": [
        {
          "output_type": "stream",
          "name": "stderr",
          "text": [
            "/usr/local/lib/python3.10/dist-packages/sklearn/base.py:458: UserWarning: X has feature names, but StandardScaler was fitted without feature names\n",
            "  warnings.warn(\n"
          ]
        }
      ]
    },
    {
      "cell_type": "code",
      "source": [
        "x_train"
      ],
      "metadata": {
        "colab": {
          "base_uri": "https://localhost:8080/"
        },
        "id": "LSkWkU_fTY-y",
        "outputId": "62130a53-da80-4415-8673-371ba981235d"
      },
      "execution_count": null,
      "outputs": [
        {
          "output_type": "execute_result",
          "data": {
            "text/plain": [
              "array([[ 0.20361574, -0.68609474, -0.7601904 , ..., -0.16417726,\n",
              "         0.75994015, -0.96356355],\n",
              "       [ 0.20361574, -0.68609474,  1.31545991, ..., -1.27427345,\n",
              "        -1.56507282,  1.3023253 ],\n",
              "       [ 0.20361574, -0.68609474,  1.31545991, ...,  0.39086908,\n",
              "         0.38793807, -0.45439561],\n",
              "       ...,\n",
              "       [ 0.20361574, -0.68609474,  1.31545991, ...,  1.08468115,\n",
              "         1.13194222, -1.44597859],\n",
              "       [ 0.20361574, -0.68609474, -0.7601904 , ...,  1.08468115,\n",
              "         0.43443833, -0.54145038],\n",
              "       [ 0.20361574, -0.68609474, -0.7601904 , ..., -0.76547936,\n",
              "        -1.10007023,  1.44851168]])"
            ]
          },
          "metadata": {},
          "execution_count": 40
        }
      ]
    },
    {
      "cell_type": "code",
      "source": [
        "x_val"
      ],
      "metadata": {
        "colab": {
          "base_uri": "https://localhost:8080/"
        },
        "id": "sL_aNK28TeHP",
        "outputId": "cf1a36ee-2704-4c49-d203-c2b9242daffd"
      },
      "execution_count": null,
      "outputs": [
        {
          "output_type": "execute_result",
          "data": {
            "text/plain": [
              "array([[ 1.00000000e+00, -5.65718739e-18,  1.00000000e+00, ...,\n",
              "         5.59999794e+01,  5.50000000e+01,  4.49367089e+01],\n",
              "       [ 1.00000000e+00,  1.00000000e+00, -5.65718739e-18, ...,\n",
              "         1.06666667e+02,  1.06666664e+02,  2.00000000e+01],\n",
              "       [ 1.00000000e+00,  1.00000000e+00, -5.65718739e-18, ...,\n",
              "         6.95652174e+01,  6.95652161e+01,  5.21739130e+01],\n",
              "       ...,\n",
              "       [ 1.00000000e+00, -5.65718739e-18,  1.00000000e+00, ...,\n",
              "         7.90000490e+01,  7.90000000e+01,  2.06349206e+01],\n",
              "       [ 1.00000000e+00,  1.00000000e+00, -5.65718739e-18, ...,\n",
              "         3.50000044e+01,  3.30000000e+01,  6.66666667e+01],\n",
              "       [ 1.00000000e+00, -5.65718739e-18, -5.65718739e-18, ...,\n",
              "         7.69999584e+01,  7.70000000e+01,  2.30769231e+01]])"
            ]
          },
          "metadata": {},
          "execution_count": 42
        }
      ]
    },
    {
      "cell_type": "markdown",
      "source": [
        "## Model Building"
      ],
      "metadata": {
        "id": "nLoal6UCTtYY"
      }
    },
    {
      "cell_type": "code",
      "source": [
        "import tensorflow\n",
        "from tensorflow import keras\n",
        "from keras.models import Sequential\n",
        "from keras.layers import Dense, BatchNormalization\n",
        "from tensorflow.keras.callbacks import EarlyStopping\n",
        "from keras.optimizers import Adam"
      ],
      "metadata": {
        "id": "_YagM7R7TjWu"
      },
      "execution_count": null,
      "outputs": []
    },
    {
      "cell_type": "code",
      "source": [
        "model=Sequential()\n",
        "model.add(Dense(input_dim=num_inputs, units=32, activation='tanh'))\n",
        "model.add(BatchNormalization())\n",
        "model.add(Dense(1,activation='sigmoid'))\n",
        "model.summary()"
      ],
      "metadata": {
        "colab": {
          "base_uri": "https://localhost:8080/"
        },
        "id": "jcwSlt6XYgKT",
        "outputId": "a907bd3c-3052-4e6e-f535-db4c3f762dc8"
      },
      "execution_count": null,
      "outputs": [
        {
          "output_type": "stream",
          "name": "stdout",
          "text": [
            "Model: \"sequential_17\"\n",
            "_________________________________________________________________\n",
            " Layer (type)                Output Shape              Param #   \n",
            "=================================================================\n",
            " dense_33 (Dense)            (None, 32)                1184      \n",
            "                                                                 \n",
            " batch_normalization_6 (Bat  (None, 32)                128       \n",
            " chNormalization)                                                \n",
            "                                                                 \n",
            " dense_34 (Dense)            (None, 1)                 33        \n",
            "                                                                 \n",
            "=================================================================\n",
            "Total params: 1345 (5.25 KB)\n",
            "Trainable params: 1281 (5.00 KB)\n",
            "Non-trainable params: 64 (256.00 Byte)\n",
            "_________________________________________________________________\n"
          ]
        }
      ]
    },
    {
      "cell_type": "code",
      "source": [
        "model.compile(optimizer=Adam(learning_rate=0.01),loss='binary_crossentropy',metrics=['accuracy'])"
      ],
      "metadata": {
        "id": "95qhfnDuUx6E"
      },
      "execution_count": null,
      "outputs": []
    },
    {
      "cell_type": "code",
      "source": [
        "# Define the early stopping callback\n",
        "early_stopping = EarlyStopping(monitor='val_accuracy', patience=10, min_delta=0.001, restore_best_weights=True)"
      ],
      "metadata": {
        "id": "h6Mw1HaVWJ_O"
      },
      "execution_count": null,
      "outputs": []
    },
    {
      "cell_type": "code",
      "source": [
        "hist=model.fit(x_train,y_train,validation_data=(x_val,y_val),epochs=100,batch_size=32, callbacks=[early_stopping])"
      ],
      "metadata": {
        "colab": {
          "base_uri": "https://localhost:8080/"
        },
        "id": "nSLi8nUNVSlR",
        "outputId": "e64a9574-882c-4713-c136-50759bdff3b2"
      },
      "execution_count": null,
      "outputs": [
        {
          "output_type": "stream",
          "name": "stdout",
          "text": [
            "Epoch 1/100\n",
            "40/40 [==============================] - 2s 11ms/step - loss: 0.5365 - accuracy: 0.7659 - val_loss: 0.4813 - val_accuracy: 0.8025\n",
            "Epoch 2/100\n",
            "40/40 [==============================] - 1s 16ms/step - loss: 0.4751 - accuracy: 0.8137 - val_loss: 0.4582 - val_accuracy: 0.8312\n",
            "Epoch 3/100\n",
            "40/40 [==============================] - 0s 6ms/step - loss: 0.4584 - accuracy: 0.8177 - val_loss: 0.4502 - val_accuracy: 0.8248\n",
            "Epoch 4/100\n",
            "40/40 [==============================] - 0s 5ms/step - loss: 0.4508 - accuracy: 0.8201 - val_loss: 0.4374 - val_accuracy: 0.8312\n",
            "Epoch 5/100\n",
            "40/40 [==============================] - 0s 4ms/step - loss: 0.4430 - accuracy: 0.8217 - val_loss: 0.4345 - val_accuracy: 0.8344\n",
            "Epoch 6/100\n",
            "40/40 [==============================] - 0s 4ms/step - loss: 0.4445 - accuracy: 0.8209 - val_loss: 0.4322 - val_accuracy: 0.8248\n",
            "Epoch 7/100\n",
            "40/40 [==============================] - 0s 5ms/step - loss: 0.4419 - accuracy: 0.8185 - val_loss: 0.4301 - val_accuracy: 0.8248\n",
            "Epoch 8/100\n",
            "40/40 [==============================] - 0s 4ms/step - loss: 0.4452 - accuracy: 0.8161 - val_loss: 0.4428 - val_accuracy: 0.8217\n",
            "Epoch 9/100\n",
            "40/40 [==============================] - 0s 4ms/step - loss: 0.4410 - accuracy: 0.8201 - val_loss: 0.4311 - val_accuracy: 0.8280\n",
            "Epoch 10/100\n",
            "40/40 [==============================] - 0s 5ms/step - loss: 0.4351 - accuracy: 0.8177 - val_loss: 0.4382 - val_accuracy: 0.8217\n",
            "Epoch 11/100\n",
            "40/40 [==============================] - 0s 4ms/step - loss: 0.4358 - accuracy: 0.8193 - val_loss: 0.4333 - val_accuracy: 0.8248\n",
            "Epoch 12/100\n",
            "40/40 [==============================] - 0s 5ms/step - loss: 0.4290 - accuracy: 0.8193 - val_loss: 0.4356 - val_accuracy: 0.8248\n",
            "Epoch 13/100\n",
            "40/40 [==============================] - 0s 4ms/step - loss: 0.4352 - accuracy: 0.8153 - val_loss: 0.4385 - val_accuracy: 0.8217\n",
            "Epoch 14/100\n",
            "40/40 [==============================] - 0s 4ms/step - loss: 0.4311 - accuracy: 0.8185 - val_loss: 0.4424 - val_accuracy: 0.8217\n",
            "Epoch 15/100\n",
            "40/40 [==============================] - 0s 6ms/step - loss: 0.4369 - accuracy: 0.8217 - val_loss: 0.4422 - val_accuracy: 0.8217\n"
          ]
        }
      ]
    },
    {
      "cell_type": "code",
      "source": [
        "from sklearn.metrics import accuracy_score\n",
        "y_pred=model.predict(x_val)"
      ],
      "metadata": {
        "colab": {
          "base_uri": "https://localhost:8080/"
        },
        "id": "E_wLA5EjVkM-",
        "outputId": "d2f2106f-349d-4009-f28b-3458597aed88"
      },
      "execution_count": null,
      "outputs": [
        {
          "output_type": "stream",
          "name": "stdout",
          "text": [
            "10/10 [==============================] - 0s 4ms/step\n"
          ]
        }
      ]
    },
    {
      "cell_type": "code",
      "source": [
        "y_pred=[1 if i>0.5 else 0 for i in y_pred]\n",
        "accuracy_score(y_pred,y_val)"
      ],
      "metadata": {
        "colab": {
          "base_uri": "https://localhost:8080/"
        },
        "id": "tuAoTWdMcwwL",
        "outputId": "1a8c6323-6120-42f5-dbf7-face708f1ac3"
      },
      "execution_count": null,
      "outputs": [
        {
          "output_type": "execute_result",
          "data": {
            "text/plain": [
              "0.8343949044585988"
            ]
          },
          "metadata": {},
          "execution_count": 129
        }
      ]
    },
    {
      "cell_type": "code",
      "source": [
        "import matplotlib.pyplot as plt\n",
        "plt.style.use('ggplot')\n",
        "plt.plot(np.arange(0,15),hist.history['accuracy'],label='train accuracy')\n",
        "plt.plot(np.arange(0,15),hist.history['val_accuracy'],label='val accuracy')\n",
        "plt.legend()\n",
        "plt.title(\"Training vs Validation Accuracy\")\n",
        "plt.xlabel('Epochs')\n",
        "plt.ylabel(\"Accuracy\")"
      ],
      "metadata": {
        "colab": {
          "base_uri": "https://localhost:8080/",
          "height": 495
        },
        "id": "4w0BIZLUcarJ",
        "outputId": "8e4c93b4-3b39-4167-eefd-dcd0013337c7"
      },
      "execution_count": null,
      "outputs": [
        {
          "output_type": "execute_result",
          "data": {
            "text/plain": [
              "Text(0, 0.5, 'Accuracy')"
            ]
          },
          "metadata": {},
          "execution_count": 142
        },
        {
          "output_type": "display_data",
          "data": {
            "text/plain": [
              "<Figure size 640x480 with 1 Axes>"
            ],
            "image/png": "[encoded data removed]"
          },
          "metadata": {}
        }
      ]
    },
    {
      "cell_type": "code",
      "source": [
        "plt.plot(np.arange(0,15),hist.history['loss'],label='train loss')\n",
        "plt.plot(np.arange(0,15),hist.history['val_loss'],label='val loss')\n",
        "plt.legend()\n",
        "plt.title(\"Training vs Validation Loss\")\n",
        "plt.xlabel('Epochs')\n",
        "plt.ylabel(\"Loss\")"
      ],
      "metadata": {
        "colab": {
          "base_uri": "https://localhost:8080/",
          "height": 495
        },
        "id": "QdvSdLb6dLuY",
        "outputId": "a4ee19ef-27d1-4c16-e3c5-64c386488166"
      },
      "execution_count": null,
      "outputs": [
        {
          "output_type": "execute_result",
          "data": {
            "text/plain": [
              "Text(0, 0.5, 'Loss')"
            ]
          },
          "metadata": {},
          "execution_count": 144
        },
        {
          "output_type": "display_data",
          "data": {
            "text/plain": [
              "<Figure size 640x480 with 1 Axes>"
            ],
            "image/png": "[encoded data removed]"
          },
          "metadata": {}
        }
      ]
    },
    {
      "cell_type": "code",
      "source": [],
      "metadata": {
        "id": "_oOQ3AXQeHXP"
      },
      "execution_count": null,
      "outputs": []
    }
  ]
}